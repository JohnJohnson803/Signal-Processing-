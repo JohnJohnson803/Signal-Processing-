{
 "cells": [
  {
   "cell_type": "code",
   "execution_count": 32,
   "id": "81778188",
   "metadata": {},
   "outputs": [
    {
     "name": "stdout",
     "output_type": "stream",
     "text": [
      "[0.0, 0.2, 0.4, 0.6000000000000001, 0.8, 1.0, 1.2000000000000002, 1.4000000000000001, 1.6, 1.8, 2.0]\n",
      "6.0\n"
     ]
    }
   ],
   "source": [
    "def myFunction(x):\n",
    "    return(3*x)\n",
    "\n",
    "a=0\n",
    "b=2\n",
    "n=10\n",
    "deltaX = ((b-a)/n)\n",
    "Xi = []\n",
    "\n",
    "for i in range(0,n+1):\n",
    "    Xi.append(a + (i * deltaX))\n",
    "print(Xi)\n",
    "\n",
    "def Trap_Integration(Xi, func):\n",
    "    output = 0\n",
    "    for i in range(0, len(Xi)):\n",
    "        if(i==0 or i==len(Xi)-1):\n",
    "            output += func(Xi[i])\n",
    "        else:\n",
    "            output += 2*func(Xi[i])\n",
    "    output = (deltaX / 2) * output\n",
    "    return output\n",
    "print(Trap_Integration(Xi,myFunction))\n",
    "    "
   ]
  },
  {
   "cell_type": "code",
   "execution_count": 33,
   "id": "1a8b766b",
   "metadata": {},
   "outputs": [],
   "source": [
    "def apply_function(func, x):\n",
    "  return func(x)\n",
    "\n",
    "def square(x):\n",
    "    return x**2\n",
    "\n",
    "result_square = apply_function(square, 5)\n",
    "\n"
   ]
  },
  {
   "cell_type": "code",
   "execution_count": null,
   "id": "c4901571",
   "metadata": {},
   "outputs": [],
   "source": []
  }
 ],
 "metadata": {
  "kernelspec": {
   "display_name": "Python 3 (ipykernel)",
   "language": "python",
   "name": "python3"
  },
  "language_info": {
   "codemirror_mode": {
    "name": "ipython",
    "version": 3
   },
   "file_extension": ".py",
   "mimetype": "text/x-python",
   "name": "python",
   "nbconvert_exporter": "python",
   "pygments_lexer": "ipython3",
   "version": "3.11.2"
  }
 },
 "nbformat": 4,
 "nbformat_minor": 5
}
