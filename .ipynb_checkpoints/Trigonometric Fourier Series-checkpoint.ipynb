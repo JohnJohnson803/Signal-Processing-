{
 "cells": [
  {
   "cell_type": "code",
   "execution_count": 1,
   "id": "9cec7ca0",
   "metadata": {},
   "outputs": [],
   "source": [
    "import numpy as np"
   ]
  },
  {
   "cell_type": "raw",
   "id": "28b7a63d",
   "metadata": {},
   "source": [
    "Xi = 3\n",
    "\n",
    "def someFunction(x):\n",
    "    return(x**3)\n",
    "\n",
    "\n",
    "def performOperation(func, Xi):\n",
    "    print(func(Xi))\n",
    "    \n",
    "performOperation(someFunction,Xi)\n",
    "\n"
   ]
  },
  {
   "cell_type": "code",
   "execution_count": 3,
   "id": "bb61e215",
   "metadata": {},
   "outputs": [],
   "source": [
    "def f(t):\n",
    "    return np.sin(t)\n",
    "\n",
    "T = 2*np.pi\n",
    "omega = 2*np.pi / T\n",
    "N = 0\n",
    "\n",
    "def trapezoid_integration(func,a,b,N):\n",
    "    deltaX = (b-a)/N\n",
    "    \n",
    "\n",
    "def integrand_an(f,t,n,omega):\n",
    "    return f(t) * np.cos(n*omega*t)\n",
    "\n",
    "def compute_an():\n",
    "    integral = integrand_an(f,t,n,omega)\n",
    "    return (trapezoid_integration(integral,t,N) * (1/T))\n",
    "\n"
   ]
  }
 ],
 "metadata": {
  "kernelspec": {
   "display_name": "Python 3 (ipykernel)",
   "language": "python",
   "name": "python3"
  },
  "language_info": {
   "codemirror_mode": {
    "name": "ipython",
    "version": 3
   },
   "file_extension": ".py",
   "mimetype": "text/x-python",
   "name": "python",
   "nbconvert_exporter": "python",
   "pygments_lexer": "ipython3",
   "version": "3.11.2"
  }
 },
 "nbformat": 4,
 "nbformat_minor": 5
}
